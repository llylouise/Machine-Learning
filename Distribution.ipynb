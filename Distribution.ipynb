{
 "cells": [
  {
   "cell_type": "code",
   "execution_count": 1,
   "id": "ed96b447",
   "metadata": {},
   "outputs": [],
   "source": [
    "from scipy.stats import norm"
   ]
  },
  {
   "cell_type": "code",
   "execution_count": 2,
   "id": "ea5425a4",
   "metadata": {},
   "outputs": [
    {
     "name": "stdout",
     "output_type": "stream",
     "text": [
      "0.7849352956916762\n",
      "\n",
      "[ 0.37188374  0.21012226 -0.17597882 -0.04388951 -0.62485985 -1.11406156\n",
      "  0.53584914 -0.25105209  2.06035257 -1.3571961 ]\n",
      "\n",
      "9.808945804584555\n",
      "\n"
     ]
    }
   ],
   "source": [
    "print(norm.rvs(),end='\\n\\n')\n",
    "print(norm.rvs(size=10),end='\\n\\n')\n",
    "print(norm.rvs(loc=10,scale=0.1),end='\\n\\n')"
   ]
  },
  {
   "cell_type": "code",
   "execution_count": 3,
   "id": "a71174ed",
   "metadata": {},
   "outputs": [
    {
     "name": "stdout",
     "output_type": "stream",
     "text": [
      "P(X<0.3)=0.6179114221889526\n"
     ]
    }
   ],
   "source": [
    "print('P(X<0.3)={}'.format(norm.cdf(0.3)))"
   ]
  },
  {
   "cell_type": "code",
   "execution_count": 4,
   "id": "c78461f0",
   "metadata": {},
   "outputs": [
    {
     "name": "stdout",
     "output_type": "stream",
     "text": [
      "P(-0.2<X<0.2)=0.15851941887820603\n"
     ]
    }
   ],
   "source": [
    "print('P(-0.2<X<0.2)={}'.format(norm.cdf(0.2)-norm.cdf(-0.2)))"
   ]
  },
  {
   "cell_type": "code",
   "execution_count": 5,
   "id": "866d212c",
   "metadata": {},
   "outputs": [],
   "source": [
    "import numpy as np\n",
    "import matplotlib.pyplot as plt\n",
    "import matplotlib.style as style\n",
    "from IPython.core.display import HTML"
   ]
  },
  {
   "cell_type": "code",
   "execution_count": null,
   "id": "ba774a2c",
   "metadata": {},
   "outputs": [],
   "source": [
    "%matplotlib inline\n",
    "style.use('fivethirtyeight')\n",
    "plt.rcParams['figure.figsize']=(14,7)\n",
    "plt.figure(dpi=100)\n",
    "\n",
    "plt.plot(np.linspace(-4,4,100),stats.norm.pdf(np.linspace))"
   ]
  }
 ],
 "metadata": {
  "kernelspec": {
   "display_name": "Python 3 (ipykernel)",
   "language": "python",
   "name": "python3"
  },
  "language_info": {
   "codemirror_mode": {
    "name": "ipython",
    "version": 3
   },
   "file_extension": ".py",
   "mimetype": "text/x-python",
   "name": "python",
   "nbconvert_exporter": "python",
   "pygments_lexer": "ipython3",
   "version": "3.7.8"
  }
 },
 "nbformat": 4,
 "nbformat_minor": 5
}
