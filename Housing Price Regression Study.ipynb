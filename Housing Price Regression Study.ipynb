{
 "cells": [
  {
   "cell_type": "code",
   "execution_count": 1,
   "id": "068a5bc6",
   "metadata": {},
   "outputs": [],
   "source": [
    "import numpy as np\n",
    "import pandas as pd\n",
    "import matplotlib.pyplot as plt\n",
    "import seaborn as sns\n",
    "from sklearn.preprocessing import StandardScaler\n",
    "from sklearn.model_selection import cross_val_score, train_test_split\n",
    "from sklearn.linear_model import LinearRegression, RidgeCV, LassoCV, ElasticNetCV\n",
    "from sklearn.metrics import mean_squared_error,make_scorer\n",
    "from scipy.stats import skew\n",
    "from IPython.display import display"
   ]
  },
  {
   "cell_type": "code",
   "execution_count": 41,
   "id": "7b47219c",
   "metadata": {},
   "outputs": [],
   "source": [
    "pd.set_option('display.float_format',lambda x: '%.3f' % x)\n",
    "%matplotlib inline"
   ]
  },
  {
   "cell_type": "code",
   "execution_count": 42,
   "id": "e5434a6b",
   "metadata": {},
   "outputs": [
    {
     "name": "stdout",
     "output_type": "stream",
     "text": [
      "train: (1460, 81)\n"
     ]
    }
   ],
   "source": [
    "train=pd.read_csv('/Users/yanglulu/Desktop/Kaggle Housing Price/train.csv')\n",
    "print('train: '+str(train.shape))"
   ]
  },
  {
   "cell_type": "code",
   "execution_count": 43,
   "id": "33a7b114",
   "metadata": {},
   "outputs": [
    {
     "name": "stdout",
     "output_type": "stream",
     "text": [
      "There are 0 duplicate IDs for 1460 total entries\n"
     ]
    }
   ],
   "source": [
    "idsUnique = len(set(train['Id']))\n",
    "idsTotal=len(train['Id'])\n",
    "idsDuplicate=idsTotal-idsUnique\n",
    "print('There are ' + str(idsDuplicate) + ' duplicate IDs for ' + str(idsTotal) + ' total entries')"
   ]
  },
  {
   "cell_type": "code",
   "execution_count": 44,
   "id": "7bfceeb1",
   "metadata": {},
   "outputs": [],
   "source": [
    "train.drop('Id',axis=1,inplace=True)"
   ]
  },
  {
   "cell_type": "code",
   "execution_count": 45,
   "id": "7d114e65",
   "metadata": {},
   "outputs": [
    {
     "data": {
      "image/png": "[encoded data removed]",
      "text/plain": [
       "<Figure size 432x288 with 1 Axes>"
      ]
     },
     "metadata": {
      "needs_background": "light"
     },
     "output_type": "display_data"
    }
   ],
   "source": [
    "plt.scatter(train['GrLivArea'],train['SalePrice'],c='blue',marker = 's')\n",
    "plt.title('Looking for Outliers')\n",
    "plt.xlabel('GrLivArea')\n",
    "plt.ylabel('SalePrice')\n",
    "plt.show()"
   ]
  },
  {
   "cell_type": "code",
   "execution_count": 46,
   "id": "4b1a5699",
   "metadata": {},
   "outputs": [],
   "source": [
    "train=train[train['GrLivArea']<4000]"
   ]
  },
  {
   "cell_type": "code",
   "execution_count": 47,
   "id": "8c1c3d67",
   "metadata": {},
   "outputs": [],
   "source": [
    "train.SalePrice=np.log1p(train.SalePrice)\n",
    "y=train.SalePrice"
   ]
  },
  {
   "cell_type": "code",
   "execution_count": 50,
   "id": "50eec9fd",
   "metadata": {},
   "outputs": [],
   "source": [
    "train.loc[:,'Alley'] =train.loc[:,'Alley'].fillna('None')\n",
    "train.loc[:,'BedroomAbvGr']=train.loc[:,'BedroomAbvGr'].fillna(0)\n",
    "train.loc[:,'BsmtQual']=train.loc[:,'BsmtQual'].fillna('No')\n",
    "train.loc[:,'BsmtCond']=train.loc[:,'BsmtCond'].fillna('No')\n",
    "train.loc[:,'BsmtExposure']=train.loc[:,'BsmtExposure'].fillna('No')\n",
    "train.loc[:,'BsmtFinType1']=train.loc[:,'BsmtFinType1'].fillna('No')\n",
    "train.loc[:,'BsmtFinType2']=train.loc[:,'BsmtFinType2'].fillna('No')\n",
    "train.loc[:,'BsmtFullBath']=train.loc[:,'BsmtFullBath'].fillna(0)\n",
    "train.loc[:,'BsmtHalfBath']=train.loc[:,'BsmtHalfBath'].fillna(0)\n",
    "train.loc[:,'BsmtUnfSF']=train.loc[:,'BsmtUnfSF'].fillna(0)\n",
    "train.loc[:,'CentralAir']=train.loc[:,'CentralAir'].fillna('No')\n",
    "train.loc[:,'Condition1']=train.loc[:,'Condition1'].fillna('Norm')\n",
    "train.loc[:,'Condition2']=train.loc[:,'Condition2'].fillna('Norm')\n",
    "train.loc[:,'EnclosedPorch']=train.loc[:,'EnclosedPorch'].fillna(0)\n",
    "train.loc[:,'ExterCond']=train.loc[:,'ExterCond'].fillna('TA')\n",
    "train.loc[:,'ExterQual']=train.loc[:,'ExterQual'].fillna('TA')\n",
    "train.loc[:,'Fence']=train.loc[:,'Fence'].fillna('No')\n",
    "train.loc[:,'FireplaceQu']=train.loc[:,'FireplaceQu'].fillna('No')\n",
    "train.loc[:,'Fireplaces']=train.loc[:,'Fireplaces'].fillna(0)\n",
    "train.loc[:,'Functional']=train.loc[:,'Functional'].fillna('Typ')\n",
    "train.loc[:,'GarageType']=train.loc[:,'GarageType'].fillna('No')\n",
    "train.loc[:,'GarageCond']=train.loc[:,'GarageCond'].fillna('No')\n",
    "train.loc[:,'GarageFinish']=train.loc[:,'GarageFinish'].fillna('No')\n",
    "train.loc[:,'GarageQual']=train.loc[:,'GarageQual'].fillna('No')\n",
    "train.loc[:,'GarageType']=train.loc[:,'GarageType'].fillna('No')\n",
    "train.loc[:,'GarageArea']=train.loc[:,'GarageArea'].fillna(0)\n",
    "train.loc[:,'GarageCars']=train.loc[:,'GarageCars'].fillna(0)\n",
    "train.loc[:,'HalfBath']=train.loc[:,'HalfBath'].fillna(0)\n",
    "train.loc[:,'HeatingQC']=train.loc[:,'HeatingQC'].fillna('TA')\n",
    "train.loc[:,'KitchenAbvGr']=train.loc[:,'KitchenAbvGr'].fillna(0)\n",
    "train.loc[:,'KitchenQual']=train.loc[:,'KitchenQual'].fillna('TA')\n",
    "train.loc[:,'LotFrontage']=train.loc[:,'LotFrontage'].fillna(0)\n",
    "train.loc[:,'LotShape']=train.loc[:,'LotShape'].fillna('Reg')\n",
    "train.loc[:,'MasVnrType']=train.loc[:,'MasVnrType'].fillna('None')\n",
    "train.loc[:,'MasVnrArea']=train.loc[:,'MasVnrArea'].fillna(0)\n",
    "train.loc[:,'MiscFeature']=train.loc[:,'MiscFeature'].fillna('None')\n",
    "train.loc[:,'MiscVal']=train.loc[:,'MiscVal'].fillna(0)\n",
    "train.loc[:,'OpenPorchSF']=train.loc[:,'OpenPorchSF'].fillna(0)\n",
    "train.loc[:,'PavedDrive']=train.loc[:,'PavedDrive'].fillna('N')\n",
    "train.loc[:,'PoolQC']=train.loc[:,'PoolQC'].fillna('No')\n",
    "train.loc[:,'PoolArea']=train.loc[:,'PoolArea'].fillna(0)\n",
    "train.loc[:,'SaleCondition']=train.loc[:,'SaleCondition'].fillna('Normal')\n",
    "train.loc[:,'ScreenPorch']=train.loc[:,'ScreenPorch'].fillna(0)\n",
    "train.loc[:,'TotRmsAbvGrd']=train.loc[:,'TotRmsAbvGrd'].fillna(0)\n",
    "train.loc[:,'Utilities']=train.loc[:,'Utilities'].fillna('AllPub')\n",
    "train.loc[:,'WoodDeckSF']=train.loc[:,'WoodDeckSF'].fillna(0)"
   ]
  },
  {
   "cell_type": "code",
   "execution_count": 51,
   "id": "82474c0b",
   "metadata": {},
   "outputs": [],
   "source": [
    "train=train.replace({'MSSubClass':{20:'SC20',30:'SC30',40:'SC40',45:'SC45',50:'SC50',60:'SC60',70:'SC70',75:'SC75',80:'SC80',85:'SC85',90:'SC90',120:'SC120',150:'SC150',160:'SC160',180:'SC180',190:'SC190'}},\n",
    "                     {'MoSold':{1:'Jan',2:'Feb',3:'Mar',4:'Apr',5:'May',6:'Jun',7:'Jul',8:'Aug',9:'Sep',10:'Oct',11:'Nov',12:'Dec'}})\n",
    "                "
   ]
  },
  {
   "cell_type": "code",
   "execution_count": 52,
   "id": "8ace4f01",
   "metadata": {},
   "outputs": [],
   "source": [
    "train=train.replace({'Alley':{'Grvl':1,'Pave':2},\n",
    "                    'BsmtCond':{'No':0,'Po':1,'Fa':2,'TA':3,'Gd':4,'Ex':5},\n",
    "                    'BsmtExposure':{'No':0,'Mn':1,'Av':2,'Gd':3},\n",
    "                    'BsmtFinType1':{'No':0,'Unf':1,'LwQ':2,'Rec':3,'BLQ':4,'ALQ':5,'GLQ':6},\n",
    "                    'BsmtFinType2':{'No':0,'Unf':1,'LwQ':2,'Rec':3,'BLQ':4,'ALQ':5,'GLQ':6},\n",
    "                    'BsmtQual':{'No':0,'Po':1,'Fa':2,'TA':3,'Gd':4,'Ex':5},\n",
    "                    'ExterCond':{'Po':1,'Fa':2,'TA':3,'Gd':4,'Ex':5},\n",
    "                    'ExterQual':{'Po':1,'Fa':2,'TA':3,'Gd':4,'Ex':5},\n",
    "                    'FirePlaceQu':{'No':0,'Po':1,'Fa':2,'TA':3,'Gd':4,'Ex':5},\n",
    "                    'Functional':{'Sal':1,'Sev':2,'Maj2':3,'Maj1':4,'Mod':5,'Min2':6,'Min1':7,'Typ':8},\n",
    "                    'GarageCond':{'No':0,'Po':1,'Fa':2,'TA':3,'Gd':4,'Ex':5},\n",
    "                    'GarageQual':{'No':0,'Po':1,'Fa':2,'TA':3,'Gd':4,'Ex':5},\n",
    "                    'HeatingQC':{'Po':1,'Fa':2,'TA':3,'Gd':4,'Ex':5},\n",
    "                    'KitchenQual':{'Po':1,'Fa':2,'TA':3,'Gd':4,'Ex':5},\n",
    "                    'LandSlope':{'Sev':1,'Mod':2,'Gtl':3},\n",
    "                    'LotShape':{'IR3':1,'IR2':2,'IR1':3,'Reg':4},\n",
    "                    'PavedDrive':{'N':0,'P':1,'Y':2},\n",
    "                    'PoolQC':{'No':0, 'Fa':1,'TA':2,'Gd':3,'Ex':4},\n",
    "                    'Street':{'Grvl':1,'Pave':2},\n",
    "                    'Utilities':{'ELO':1,'NoSeWa':2,'NoSewr':3,'AllPub':4}})"
   ]
  },
  {
   "cell_type": "code",
   "execution_count": 53,
   "id": "dac200be",
   "metadata": {},
   "outputs": [],
   "source": [
    "train['SimplOverallQual']=train.OverallQual.replace({1:1,2:1,3:1,\n",
    "                                                     4:2,5:2,6:2,\n",
    "                                                     7:3,8:3,9:3,10:3})\n",
    "train[\"SimplOverallCond\"] = train.OverallCond.replace({1 : 1, 2 : 1, 3 : 1, # bad\n",
    "                                                       4 : 2, 5 : 2, 6 : 2, # average\n",
    "                                                       7 : 3, 8 : 3, 9 : 3, 10 : 3 # good\n",
    "                                                      })\n",
    "train[\"SimplPoolQC\"] = train.PoolQC.replace({1 : 1, 2 : 1, # average\n",
    "                                             3 : 2, 4 : 2 # good\n",
    "                                            })\n",
    "train[\"SimplGarageCond\"] = train.GarageCond.replace({1 : 1, # bad\n",
    "                                                     2 : 1, 3 : 1, # average\n",
    "                                                     4 : 2, 5 : 2 # good\n",
    "                                                    })\n",
    "train[\"SimplGarageQual\"] = train.GarageQual.replace({1 : 1, # bad\n",
    "                                                     2 : 1, 3 : 1, # average\n",
    "                                                     4 : 2, 5 : 2 # good\n",
    "                                                    })\n",
    "train[\"SimplFireplaceQu\"] = train.FireplaceQu.replace({1 : 1, # bad\n",
    "                                                       2 : 1, 3 : 1, # average\n",
    "                                                       4 : 2, 5 : 2 # good\n",
    "                                                      })\n",
    "train[\"SimplFunctional\"] = train.Functional.replace({1 : 1, 2 : 1, # bad\n",
    "                                                     3 : 2, 4 : 2, # major\n",
    "                                                     5 : 3, 6 : 3, 7 : 3, # minor\n",
    "                                                     8 : 4 # typical\n",
    "                                                    })\n",
    "train[\"SimplKitchenQual\"] = train.KitchenQual.replace({1 : 1, # bad\n",
    "                                                       2 : 1, 3 : 1, # average\n",
    "                                                       4 : 2, 5 : 2 # good\n",
    "                                                      })\n",
    "train[\"SimplHeatingQC\"] = train.HeatingQC.replace({1 : 1, # bad\n",
    "                                                   2 : 1, 3 : 1, # average\n",
    "                                                   4 : 2, 5 : 2 # good\n",
    "                                                  })\n",
    "train[\"SimplBsmtFinType1\"] = train.BsmtFinType1.replace({1 : 1, # unfinished\n",
    "                                                         2 : 1, 3 : 1, # rec room\n",
    "                                                         4 : 2, 5 : 2, 6 : 2 # living quarters\n",
    "                                                        })\n",
    "train[\"SimplBsmtFinType2\"] = train.BsmtFinType2.replace({1 : 1, # unfinished\n",
    "                                                         2 : 1, 3 : 1, # rec room\n",
    "                                                         4 : 2, 5 : 2, 6 : 2 # living quarters\n",
    "                                                        })\n",
    "train[\"SimplBsmtCond\"] = train.BsmtCond.replace({1 : 1, # bad\n",
    "                                                 2 : 1, 3 : 1, # average\n",
    "                                                 4 : 2, 5 : 2 # good\n",
    "                                                })\n",
    "train[\"SimplBsmtQual\"] = train.BsmtQual.replace({1 : 1, # bad\n",
    "                                                 2 : 1, 3 : 1, # average\n",
    "                                                 4 : 2, 5 : 2 # good\n",
    "                                                })\n",
    "train[\"SimplExterCond\"] = train.ExterCond.replace({1 : 1, # bad\n",
    "                                                   2 : 1, 3 : 1, # average\n",
    "                                                   4 : 2, 5 : 2 # good\n",
    "                                                  })\n",
    "train[\"SimplExterQual\"] = train.ExterQual.replace({1 : 1, # bad\n",
    "                                                   2 : 1, 3 : 1, # average\n",
    "                                                   4 : 2, 5 : 2 # good\n",
    "                                                  })"
   ]
  },
  {
   "cell_type": "code",
   "execution_count": 54,
   "id": "d5672881",
   "metadata": {},
   "outputs": [],
   "source": [
    "train['OverallGrade']=train['OverallCond']*train['OverallQual']\n",
    "train['GarageGrade']=train['GarageCond']*train['GarageQual']\n",
    "train['ExterGrade']=train['ExterCond']*train['ExterQual']\n",
    "train['KitchenScore']=train['KitchenAbvGr']*train['KitchenQual']\n",
    "train['FireplaceScore']=train['Fireplaces']*train['FireplaceQu']\n",
    "train['GarageScore']=train['GarageArea']*train['GarageQual']\n",
    "train['PoolScore']=train['PoolArea']*train['PoolQC']\n",
    "train['SimplOverallGrade']=train['SimplOverallCond']*train['SimplOverallQual']\n",
    "train[\"SimplExterGrade\"] = train[\"SimplExterQual\"] * train[\"SimplExterCond\"]\n",
    "train[\"SimplPoolScore\"] = train[\"PoolArea\"] * train[\"SimplPoolQC\"]\n",
    "train[\"SimplGarageScore\"] = train[\"GarageArea\"] * train[\"SimplGarageQual\"]\n",
    "train[\"SimplFireplaceScore\"] = train[\"Fireplaces\"] * train[\"SimplFireplaceQu\"]\n",
    "train[\"SimplKitchenScore\"] = train[\"KitchenAbvGr\"] * train[\"SimplKitchenQual\"]\n",
    "train['TotalBath']=train['BsmtFullBath']+(0.5*train['BsmtHalfBath'])+train['FullBath']+(0.5*train['HalfBath'])\n",
    "train[\"AllSF\"] = train[\"GrLivArea\"] + train[\"TotalBsmtSF\"]\n",
    "train[\"AllFlrsSF\"] = train[\"1stFlrSF\"] + train[\"2ndFlrSF\"]\n",
    "train[\"AllPorchSF\"] = train[\"OpenPorchSF\"] + train[\"EnclosedPorch\"] + train[\"3SsnPorch\"] + train[\"ScreenPorch\"]\n",
    "train['HasMasVnr']=train.MasVnrType.replace({'BrkCmn':1,'BrkFace':1,'CBlock':1,'Stone':1,'None':0})\n",
    "train['BoughtOffPlan']=train.SaleCondition.replace({'Abnorml':0,'Alloca':0,'AdjLand':0,'Family':0,'Normal':0,'Partial':1})"
   ]
  },
  {
   "cell_type": "code",
   "execution_count": 56,
   "id": "6d0262a1",
   "metadata": {},
   "outputs": [
    {
     "name": "stdout",
     "output_type": "stream",
     "text": [
      "Find most important features relative to target\n",
      "SalePrice         1.000\n",
      "OverallQual       0.819\n",
      "AllSF             0.817\n",
      "AllFlrsSF         0.729\n",
      "GrLivArea         0.719\n",
      "                  ...  \n",
      "SimplExterCond   -0.042\n",
      "MSSubClass       -0.075\n",
      "KitchenAbvGr     -0.148\n",
      "EnclosedPorch    -0.149\n",
      "LotShape         -0.286\n",
      "Name: SalePrice, Length: 86, dtype: float64\n"
     ]
    }
   ],
   "source": [
    "#print(train['GarageCond'])\n",
    "print(\"Find most important features relative to target\")\n",
    "corr=train.corr()\n",
    "corr.sort_values(['SalePrice'],ascending=False,inplace=True)\n",
    "print(corr['SalePrice'])"
   ]
  },
  {
   "cell_type": "code",
   "execution_count": 57,
   "id": "66758508",
   "metadata": {},
   "outputs": [],
   "source": [
    "train['OverallQual-s2']=train['OverallQual']**2\n",
    "train['OverallQual-s3']=train['OverallQual']**3\n",
    "train['OverallQual-Sq']=np.sqrt(train['OverallQual'])\n",
    "train['AllSF-2']=train['AllSF']**2\n",
    "train['AllSF-3']=train['AllSF']**3\n",
    "train['AllSF-Sq']=np.sqrt(train['AllSF'])\n",
    "train[\"AllFlrsSF-2\"] = train[\"AllFlrsSF\"] ** 2\n",
    "train[\"AllFlrsSF-3\"] = train[\"AllFlrsSF\"] ** 3\n",
    "train[\"AllFlrsSF-Sq\"] = np.sqrt(train[\"AllFlrsSF\"])\n",
    "train[\"GrLivArea-2\"] = train[\"GrLivArea\"] ** 2\n",
    "train[\"GrLivArea-3\"] = train[\"GrLivArea\"] ** 3\n",
    "train[\"GrLivArea-Sq\"] = np.sqrt(train[\"GrLivArea\"])\n",
    "train[\"SimplOverallQual-s2\"] = train[\"SimplOverallQual\"] ** 2\n",
    "train[\"SimplOverallQual-s3\"] = train[\"SimplOverallQual\"] ** 3\n",
    "train[\"SimplOverallQual-Sq\"] = np.sqrt(train[\"SimplOverallQual\"])\n",
    "train[\"ExterQual-2\"] = train[\"ExterQual\"] ** 2\n",
    "train[\"ExterQual-3\"] = train[\"ExterQual\"] ** 3\n",
    "train[\"ExterQual-Sq\"] = np.sqrt(train[\"ExterQual\"])\n",
    "train[\"GarageCars-2\"] = train[\"GarageCars\"] ** 2\n",
    "train[\"GarageCars-3\"] = train[\"GarageCars\"] ** 3\n",
    "train[\"GarageCars-Sq\"] = np.sqrt(train[\"GarageCars\"])\n",
    "train[\"TotalBath-2\"] = train[\"TotalBath\"] ** 2\n",
    "train[\"TotalBath-3\"] = train[\"TotalBath\"] ** 3\n",
    "train[\"TotalBath-Sq\"] = np.sqrt(train[\"TotalBath\"])\n",
    "train[\"KitchenQual-2\"] = train[\"KitchenQual\"] ** 2\n",
    "train[\"KitchenQual-3\"] = train[\"KitchenQual\"] ** 3\n",
    "train[\"KitchenQual-Sq\"] = np.sqrt(train[\"KitchenQual\"])\n",
    "train[\"GarageScore-2\"] = train[\"GarageScore\"] ** 2\n",
    "train[\"GarageScore-3\"] = train[\"GarageScore\"] ** 3\n",
    "train[\"GarageScore-Sq\"] = np.sqrt(train[\"GarageScore\"])"
   ]
  },
  {
   "cell_type": "code",
   "execution_count": null,
   "id": "1844893d",
   "metadata": {},
   "outputs": [],
   "source": []
  }
 ],
 "metadata": {
  "kernelspec": {
   "display_name": "Python 3 (ipykernel)",
   "language": "python",
   "name": "python3"
  },
  "language_info": {
   "codemirror_mode": {
    "name": "ipython",
    "version": 3
   },
   "file_extension": ".py",
   "mimetype": "text/x-python",
   "name": "python",
   "nbconvert_exporter": "python",
   "pygments_lexer": "ipython3",
   "version": "3.7.8"
  }
 },
 "nbformat": 4,
 "nbformat_minor": 5
}
