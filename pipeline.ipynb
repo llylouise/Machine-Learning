{
 "cells": [
  {
   "cell_type": "code",
   "execution_count": 2,
   "id": "731dc890",
   "metadata": {},
   "outputs": [
    {
     "name": "stdout",
     "output_type": "stream",
     "text": [
      "\n",
      "\n",
      "\n",
      "\n",
      "result:\n",
      "==========\n",
      "train dataset shape: (150, 2) \n",
      "test dataset shape: (50, 2)\n",
      "\n",
      "========\n",
      "\n",
      "\n",
      "\n",
      "\n"
     ]
    }
   ],
   "source": [
    "from sklearn.datasets import make_blobs\n",
    "from sklearn.model_selection import train_test_split\n",
    "from sklearn.preprocessing import StandardScaler\n",
    "from sklearn.neural_network import MLPClassifier\n",
    "import matplotlib.pyplot as plt\n",
    "X,y=make_blobs(n_samples=200,centers=2,cluster_std=5)\n",
    "X_train,X_test,y_train,y_test = train_test_split(X,y,random_state=38)\n",
    "scaler=StandardScaler().fit(X_train)\n",
    "X_train_scaled=scaler.transform(X_train)\n",
    "X_test_scaled=scaler.transform(X_test)\n",
    "print('\\n\\n\\n')\n",
    "print('result:')\n",
    "print('==========')\n",
    "print('train dataset shape:',X_train_scaled.shape,'\\ntest dataset shape:',X_test_scaled.shape)\n",
    "print('\\n========')\n",
    "print('\\n\\n\\n')"
   ]
  },
  {
   "cell_type": "code",
   "execution_count": 3,
   "id": "717b04cc",
   "metadata": {},
   "outputs": [
    {
     "data": {
      "image/png": "[encoded data removed]",
      "text/plain": [
       "<Figure size 432x288 with 1 Axes>"
      ]
     },
     "metadata": {
      "needs_background": "light"
     },
     "output_type": "display_data"
    }
   ],
   "source": [
    "plt.scatter(X_train[:,0],X_train[:,1])\n",
    "plt.scatter(X_train_scaled[:,0],X_train_scaled[:,1],marker='^',edgecolor='k')\n",
    "plt.title('training set & scaled training set')\n",
    "plt.show()"
   ]
  },
  {
   "cell_type": "code",
   "execution_count": 5,
   "id": "4b170886",
   "metadata": {},
   "outputs": [
    {
     "name": "stdout",
     "output_type": "stream",
     "text": [
      "\n",
      "\n",
      "\n",
      "\n",
      "result:\n",
      "========\n",
      "\n",
      "best score:0.96\n",
      "best params:{'alpha': 0.0001, 'hidden_layer_sizes': (100, 100)}\n",
      "\n",
      "========\n",
      "\n",
      "\n",
      "\n",
      "\n"
     ]
    }
   ],
   "source": [
    "from sklearn.model_selection import GridSearchCV\n",
    "params={'hidden_layer_sizes':[(50,),(100,),(100,100)],'alpha':[0.0001,0.001,0.01,0.1]}\n",
    "grid=GridSearchCV(MLPClassifier(max_iter=1600,random_state=38),param_grid=params,cv=3)\n",
    "grid.fit(X_train_scaled,y_train)\n",
    "print('\\n\\n\\n')\n",
    "print('result:')\n",
    "print('========\\n')\n",
    "print('best score:{:.2f}'.format(grid.best_score_))\n",
    "print('best params:{}'.format(grid.best_params_))\n",
    "print('\\n========')\n",
    "print('\\n\\n\\n')"
   ]
  },
  {
   "cell_type": "code",
   "execution_count": 6,
   "id": "198f29f9",
   "metadata": {},
   "outputs": [
    {
     "name": "stdout",
     "output_type": "stream",
     "text": [
      "\n",
      "\n",
      "\n",
      "\n",
      "result:\n",
      "========\n",
      "\n",
      "test dataset score:0.96\n",
      "\n",
      "========\n",
      "\n",
      "\n",
      "\n",
      "\n"
     ]
    }
   ],
   "source": [
    "print('\\n\\n\\n')\n",
    "print('result:')\n",
    "print('========\\n')\n",
    "print('test dataset score:{}'.format(grid.score(X_test_scaled,y_test)))\n",
    "print('\\n========')\n",
    "print('\\n\\n\\n')"
   ]
  },
  {
   "cell_type": "code",
   "execution_count": 8,
   "id": "9776b5a5",
   "metadata": {},
   "outputs": [
    {
     "name": "stdout",
     "output_type": "stream",
     "text": [
      "MLP score by using pipeline:0.98\n"
     ]
    }
   ],
   "source": [
    "from sklearn.pipeline import Pipeline\n",
    "pipeline=Pipeline([('scaler',StandardScaler()),('mlp',MLPClassifier(max_iter=1600,random_state=38))])\n",
    "pipeline.fit(X_train,y_train)\n",
    "print('MLP score by using pipeline:{:.2f}'.format(pipeline.score(X_test,y_test)))"
   ]
  },
  {
   "cell_type": "code",
   "execution_count": 13,
   "id": "18262999",
   "metadata": {},
   "outputs": [
    {
     "name": "stdout",
     "output_type": "stream",
     "text": [
      "\n",
      "\n",
      "\n",
      "\n",
      "result:\n",
      "============\n",
      "\n",
      "cross validation best score:0.96\n",
      "model best params:{'mlp__alpha': 0.0001, 'mlp__hidden_layer_sizes': (100, 100)}\n",
      "testset score:0.96\n",
      "\n",
      "============\n",
      "\n",
      "\n",
      "\n",
      "\n"
     ]
    }
   ],
   "source": [
    "params={'mlp__hidden_layer_sizes':[(50,),(100,),(100,100)],'mlp__alpha':[0.0001,0.001,0.01,0.1]}\n",
    "grid=GridSearchCV(pipeline,param_grid=params,cv=3)\n",
    "grid.fit(X_train,y_train)\n",
    "print('\\n\\n\\n')\n",
    "print('result:')\n",
    "print('============\\n')\n",
    "print('cross validation best score:{:.2f}'.format(grid.best_score_))\n",
    "print('model best params:{}'.format(grid.best_params_))\n",
    "print('testset score:{}'.format(grid.score(X_test,y_test)))\n",
    "print('\\n============')\n",
    "print('\\n\\n\\n')"
   ]
  },
  {
   "cell_type": "code",
   "execution_count": null,
   "id": "a4f65b4c",
   "metadata": {},
   "outputs": [],
   "source": []
  }
 ],
 "metadata": {
  "kernelspec": {
   "display_name": "Python 3 (ipykernel)",
   "language": "python",
   "name": "python3"
  },
  "language_info": {
   "codemirror_mode": {
    "name": "ipython",
    "version": 3
   },
   "file_extension": ".py",
   "mimetype": "text/x-python",
   "name": "python",
   "nbconvert_exporter": "python",
   "pygments_lexer": "ipython3",
   "version": "3.7.8"
  }
 },
 "nbformat": 4,
 "nbformat_minor": 5
}
